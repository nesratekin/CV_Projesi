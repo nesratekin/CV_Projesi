{
  "nbformat": 4,
  "nbformat_minor": 0,
  "metadata": {
    "colab": {
      "provenance": [],
      "authorship_tag": "ABX9TyPg/+ISbu45xsZMiarfc02k",
      "include_colab_link": true
    },
    "kernelspec": {
      "name": "python3",
      "display_name": "Python 3"
    },
    "language_info": {
      "name": "python"
    }
  },
  "cells": [
    {
      "cell_type": "markdown",
      "metadata": {
        "id": "view-in-github",
        "colab_type": "text"
      },
      "source": [
        "<a href=\"https://colab.research.google.com/github/nesratekin/CV_Projesi/blob/main/CV.ipynb\" target=\"_parent\"><img src=\"https://colab.research.google.com/assets/colab-badge.svg\" alt=\"Open In Colab\"/></a>"
      ]
    },
    {
      "cell_type": "code",
      "source": [
        "!pip install reportlab\n",
        "\n",
        "from reportlab.lib.pagesizes import letter\n",
        "from reportlab.lib.styles import getSampleStyleSheet\n",
        "from reportlab.platypus import SimpleDocTemplate, Paragraph, Spacer\n",
        "\n",
        "def create_cv():\n",
        "\n",
        "    doc = SimpleDocTemplate(\"/content/cv.pdf\", pagesize=letter)\n",
        "    styles = getSampleStyleSheet()\n",
        "    story = []\n",
        "\n",
        "    # Başlık kısmını yazdım\n",
        "    title = \"Nesra Tekin\"\n",
        "    subtitle = \"Software Engineer\"\n",
        "    contact_info = \"Email: nesratekin@icloud.com | Phone: (551) 066-55-55 | LinkedIn: https://www.linkedin.com/in/nesra-tekin-60a404259/\"\n",
        "\n",
        "    # Kişisel Bilgiler kısmı\n",
        "    story.append(Paragraph(title, styles['Title']))\n",
        "    story.append(Paragraph(subtitle, styles['Title']))\n",
        "    story.append(Paragraph(contact_info, styles['Normal']))\n",
        "    story.append(Spacer(1, 12))\n",
        "\n",
        "    # Eğitim\n",
        "    education_title = \"Egitim\"\n",
        "    education_content = \"\"\"\n",
        "    <b>Bilgisayar Programciligi</b><br/>\n",
        "    Istanbul Ticaret Universitesi, 2022 - 2024<br/>\n",
        "    GPA: 3.02/4.0\n",
        "    \"\"\"\n",
        "    story.append(Paragraph(education_title, styles['Heading2']))\n",
        "    story.append(Paragraph(education_content, styles['Normal']))\n",
        "    story.append(Spacer(1, 12))\n",
        "\n",
        "    # İş Deneyimi\n",
        "    experience_title = \"Is Deneyimi\"\n",
        "    experience_content = \"\"\"\n",
        "    <b>Bilgi Islem Uzmani</b><br/>\n",
        "    Desi Bilgi Teknolojileri, 2023 - IT<br/>\n",
        "    Sektorunun oncu firmalarina IT destegi verdim. Son kullanici destegi, donanim destegi, basit seviyede network ve server destegi, yazici, mobil telefon ve IT ekipmanlari destegi verdim. Ticket / Cagri bazli olarak cogunlukla ofiste olacak sekilde ve ayrica uzaktan destek verdim..<br/>\n",
        "    <br/>\n",
        "    <b>Acente Muduru</b><br/>\n",
        "    Surat Kargo, 2021 - 2022<br/>\n",
        "    Sube ici kargo sevkiyat operasyonlari, acente fatura ve musteri tahsilatlarinin tahsil edilmesi gibi idari ve operasyonel islerin tamami.<br/>\n",
        "    \"\"\"\n",
        "    story.append(Paragraph(experience_title, styles['Heading2']))\n",
        "    story.append(Paragraph(experience_content, styles['Normal']))\n",
        "    story.append(Spacer(1, 12))\n",
        "\n",
        "    # Teknik Beceriler\n",
        "    skills_title = \"Teknik Beceriler\"\n",
        "    skills_content = \"\"\"\n",
        "    - Programlama Dilleri: Python, Java, C, C#, HTML, CSS, JavaScript<br/>\n",
        "    - Araclar: Git, Docker<br/>\n",
        "    - Veri Tabani: MySQL\n",
        "    \"\"\"\n",
        "    story.append(Paragraph(skills_title, styles['Heading2']))\n",
        "    story.append(Paragraph(skills_content, styles['Normal']))\n",
        "    story.append(Spacer(1, 12))\n",
        "\n",
        "    # Sertifikalar\n",
        "    certifications_title = \"Sertifikalar\"\n",
        "    certifications_content = \"\"\"\n",
        "    - Mendix Rapid Developer Certification <br/>\n",
        "    - MikroFly Certification <br/>\n",
        "\n",
        "    \"\"\"\n",
        "    story.append(Paragraph(certifications_title, styles['Heading2']))\n",
        "    story.append(Paragraph(certifications_content, styles['Normal']))\n",
        "    story.append(Spacer(1, 12))\n",
        "\n",
        "    # Diller\n",
        "    languages_title = \"Diller\"\n",
        "    languages_content = \"\"\"\n",
        "    - Ingilizce: Intermediate <br/>\n",
        "    - Korece: Basic\n",
        "    \"\"\"\n",
        "    story.append(Paragraph(languages_title, styles['Heading2']))\n",
        "    story.append(Paragraph(languages_content, styles['Normal']))\n",
        "\n",
        "\n",
        "    doc.build(story)\n",
        "\n",
        "create_cv()\n",
        "\n",
        "from google.colab import files\n",
        "\n",
        "\n",
        "files.download('/content/cv.pdf')\n",
        "\n",
        "!cp /content/cv.pdf /content/drive/MyDrive/"
      ],
      "metadata": {
        "colab": {
          "base_uri": "https://localhost:8080/",
          "height": 72
        },
        "id": "CS3_k8NzKTxP",
        "outputId": "24353928-e5bb-4584-dcee-7e9c4d0be424"
      },
      "execution_count": null,
      "outputs": [
        {
          "output_type": "stream",
          "name": "stdout",
          "text": [
            "Requirement already satisfied: reportlab in /usr/local/lib/python3.10/dist-packages (4.2.0)\n",
            "Requirement already satisfied: pillow>=9.0.0 in /usr/local/lib/python3.10/dist-packages (from reportlab) (9.4.0)\n",
            "Requirement already satisfied: chardet in /usr/local/lib/python3.10/dist-packages (from reportlab) (5.2.0)\n"
          ]
        },
        {
          "output_type": "display_data",
          "data": {
            "text/plain": [
              "<IPython.core.display.Javascript object>"
            ],
            "application/javascript": [
              "\n",
              "    async function download(id, filename, size) {\n",
              "      if (!google.colab.kernel.accessAllowed) {\n",
              "        return;\n",
              "      }\n",
              "      const div = document.createElement('div');\n",
              "      const label = document.createElement('label');\n",
              "      label.textContent = `Downloading \"${filename}\": `;\n",
              "      div.appendChild(label);\n",
              "      const progress = document.createElement('progress');\n",
              "      progress.max = size;\n",
              "      div.appendChild(progress);\n",
              "      document.body.appendChild(div);\n",
              "\n",
              "      const buffers = [];\n",
              "      let downloaded = 0;\n",
              "\n",
              "      const channel = await google.colab.kernel.comms.open(id);\n",
              "      // Send a message to notify the kernel that we're ready.\n",
              "      channel.send({})\n",
              "\n",
              "      for await (const message of channel.messages) {\n",
              "        // Send a message to notify the kernel that we're ready.\n",
              "        channel.send({})\n",
              "        if (message.buffers) {\n",
              "          for (const buffer of message.buffers) {\n",
              "            buffers.push(buffer);\n",
              "            downloaded += buffer.byteLength;\n",
              "            progress.value = downloaded;\n",
              "          }\n",
              "        }\n",
              "      }\n",
              "      const blob = new Blob(buffers, {type: 'application/binary'});\n",
              "      const a = document.createElement('a');\n",
              "      a.href = window.URL.createObjectURL(blob);\n",
              "      a.download = filename;\n",
              "      div.appendChild(a);\n",
              "      a.click();\n",
              "      div.remove();\n",
              "    }\n",
              "  "
            ]
          },
          "metadata": {}
        },
        {
          "output_type": "display_data",
          "data": {
            "text/plain": [
              "<IPython.core.display.Javascript object>"
            ],
            "application/javascript": [
              "download(\"download_4d61697f-c47e-403c-b8fb-840bff61930d\", \"cv.pdf\", 2617)"
            ]
          },
          "metadata": {}
        }
      ]
    }
  ]
}